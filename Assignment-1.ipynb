{
 "cells": [
  {
   "cell_type": "markdown",
   "metadata": {},
   "source": [
    "# Assignment-1"
   ]
  },
  {
   "cell_type": "markdown",
   "metadata": {},
   "source": [
    "### Q1"
   ]
  },
  {
   "cell_type": "code",
   "execution_count": 5,
   "metadata": {},
   "outputs": [
    {
     "name": "stdout",
     "output_type": "stream",
     "text": [
      "Before swapping a=2, b=3\n",
      "After swapping a=3, b=2\n"
     ]
    }
   ],
   "source": [
    "a=2\n",
    "b=3\n",
    "print(\"Before swapping a={}, b={}\".format(a,b))\n",
    "a,b=b,a\n",
    "print(\"After swapping a={}, b={}\".format(a,b))\n"
   ]
  },
  {
   "cell_type": "markdown",
   "metadata": {},
   "source": [
    "### Q2"
   ]
  },
  {
   "cell_type": "code",
   "execution_count": 12,
   "metadata": {},
   "outputs": [
    {
     "name": "stdout",
     "output_type": "stream",
     "text": [
      "Enter the number: 3\n",
      "It is an odd Number\n"
     ]
    }
   ],
   "source": [
    "a1=int(input(\"Enter the number: \"))\n",
    "if a1%2==0:\n",
    "    print(\"It is an even Number\")\n",
    "else:\n",
    "    print(\"It is an odd Number\")"
   ]
  },
  {
   "cell_type": "markdown",
   "metadata": {},
   "source": [
    "### Q3"
   ]
  },
  {
   "cell_type": "code",
   "execution_count": 29,
   "metadata": {},
   "outputs": [
    {
     "name": "stdout",
     "output_type": "stream",
     "text": [
      "Enter the number: 16\n",
      "Square root of the number: 4.000000\n"
     ]
    }
   ],
   "source": [
    "a3=float(input(\"Enter the number: \"))\n",
    "sqrt=a3**0.5\n",
    "print(\"Square root of the number: %.6f\" % (sqrt))"
   ]
  },
  {
   "cell_type": "markdown",
   "metadata": {},
   "source": [
    "### Q4"
   ]
  },
  {
   "cell_type": "code",
   "execution_count": 42,
   "metadata": {},
   "outputs": [
    {
     "name": "stdout",
     "output_type": "stream",
     "text": [
      "8\n",
      "1,2,3,4,5,6,7,8,\n",
      "In reverse order: \n",
      "8,7,6,5,4,3,2,1,"
     ]
    }
   ],
   "source": [
    "n=int(input())\n",
    "for i in range(1,n+1):\n",
    "    print(i,end=\",\")\n",
    "print()\n",
    "print(\"In reverse order: \")\n",
    "for i in range(n,0,-1):\n",
    "    print(i,end=\",\")"
   ]
  },
  {
   "cell_type": "markdown",
   "metadata": {},
   "source": [
    "### Q5"
   ]
  },
  {
   "cell_type": "code",
   "execution_count": 54,
   "metadata": {},
   "outputs": [
    {
     "name": "stdout",
     "output_type": "stream",
     "text": [
      "Input the radius: 7\n",
      "Area of sphere = 615.44\n"
     ]
    }
   ],
   "source": [
    "r=float(input(\"Input the radius: \"))\n",
    "area=4*3.14*(r)**2\n",
    "print(\"Area of sphere = {}\".format(area))"
   ]
  },
  {
   "cell_type": "markdown",
   "metadata": {},
   "source": [
    "### Q6"
   ]
  },
  {
   "cell_type": "code",
   "execution_count": 6,
   "metadata": {},
   "outputs": [
    {
     "name": "stdout",
     "output_type": "stream",
     "text": [
      "Even numbers: \n",
      "2,4,6,8,10,12,14,16,18,20,22,24,26,28,30,32,34,36,38,40,42,44,46,48,50,52,54,56,58,60,62,64,66,68,70,72,74,76,78,80,82,84,86,88,90,92,94,96,98,\n",
      "Odd numbers:\n",
      "1,3,5,7,9,11,13,15,17,19,21,23,25,27,29,31,33,35,37,39,41,43,45,47,49,51,53,55,57,59,61,63,65,67,69,71,73,75,77,79,81,83,85,87,89,91,93,95,97,99,"
     ]
    }
   ],
   "source": [
    "\n",
    "print(\"Even numbers: \")\n",
    "for j in range(1,100):\n",
    "    if j%2==0:\n",
    "        print(j,end=\",\")\n",
    "print()\n",
    "print(\"Odd numbers:\" )\n",
    "for y in range(1,100):\n",
    "    if (y%2)!=0:\n",
    "        print(y,end=\",\")"
   ]
  },
  {
   "cell_type": "markdown",
   "metadata": {},
   "source": [
    "### Q7"
   ]
  },
  {
   "cell_type": "code",
   "execution_count": 71,
   "metadata": {},
   "outputs": [
    {
     "name": "stdout",
     "output_type": "stream",
     "text": [
      "A: 2\n",
      "B: -5\n",
      "C: -3\n",
      "First root:  3.0\n",
      "Second root:  -0.5\n"
     ]
    }
   ],
   "source": [
    "A=float(input(\"A: \"))\n",
    "B=float(input(\"B: \"))\n",
    "C=float(input(\"C: \"))\n",
    "x1=(-B+(((B**2)-4*A*C)**0.5))/(2*A)\n",
    "x2=(-B-(((B**2)-4*A*C)**0.5))/(2*A)\n",
    "print(\"First root: \",x1)\n",
    "print(\"Second root: \",x2)"
   ]
  },
  {
   "cell_type": "markdown",
   "metadata": {},
   "source": [
    "### Q8"
   ]
  },
  {
   "cell_type": "code",
   "execution_count": 4,
   "metadata": {},
   "outputs": [
    {
     "name": "stdout",
     "output_type": "stream",
     "text": [
      "2345\n",
      "The no. of digits in the given number are:  4\n"
     ]
    }
   ],
   "source": [
    "a4=int(input())\n",
    "count=0\n",
    "while(a4>0):\n",
    "    count+=1\n",
    "    a4=int(a4/10)\n",
    "print(\"The no. of digits in the given number are: \",count)\n",
    "    "
   ]
  },
  {
   "cell_type": "markdown",
   "metadata": {},
   "source": [
    "### Q9"
   ]
  },
  {
   "cell_type": "code",
   "execution_count": 32,
   "metadata": {},
   "outputs": [
    {
     "name": "stdout",
     "output_type": "stream",
     "text": [
      "33\n",
      "33 is not a prime no.\n"
     ]
    }
   ],
   "source": [
    "a5=int(input())\n",
    "flag=0\n",
    "\n",
    "if a5==1:\n",
    "    print(\"Number is neither prime nor composite\")\n",
    "else:\n",
    "    \n",
    "    for i in range(2,(a5//2)+1):\n",
    "        if a5%i==0:\n",
    "            flag=1\n",
    "            break\n",
    "    else:\n",
    "        print(\"{} is a prime no.\".format(a5))\n",
    "\n",
    "    if flag==1:\n",
    "        print(\"{} is not a prime no.\".format(a5))"
   ]
  },
  {
   "cell_type": "markdown",
   "metadata": {},
   "source": [
    "### Q10"
   ]
  },
  {
   "cell_type": "code",
   "execution_count": 2,
   "metadata": {},
   "outputs": [
    {
     "name": "stdout",
     "output_type": "stream",
     "text": [
      "17\n",
      "3,5,6,9,10,12,15,\n",
      "Sum = 60\n"
     ]
    }
   ],
   "source": [
    "a6=int(input())\n",
    "sum=0\n",
    "for i in range(1,a6+1):\n",
    "    if i%3==0 or i%5==0:\n",
    "        print(i,end=\",\")\n",
    "        sum=sum+i\n",
    "print()        \n",
    "print(\"Sum =\",sum)"
   ]
  },
  {
   "cell_type": "markdown",
   "metadata": {},
   "source": [
    "### Q11"
   ]
  },
  {
   "cell_type": "code",
   "execution_count": 11,
   "metadata": {},
   "outputs": [
    {
     "name": "stdout",
     "output_type": "stream",
     "text": [
      "1- Sum\n",
      "2- Product\n",
      "Enter the option: 2\n",
      "Now enter the number: 4\n",
      "Product = 24\n"
     ]
    }
   ],
   "source": [
    "def add(n1):\n",
    "    sum=0\n",
    "    for i in range(1,n1+1):\n",
    "        sum=sum+i\n",
    "    \n",
    "    print(\"Sum =\",sum)\n",
    "    \n",
    "def mul(n1):\n",
    "    p=1\n",
    "    for i in range(1,n1+1):\n",
    "        p=p*i\n",
    "    \n",
    "    print(\"Product =\",p)\n",
    "    \n",
    "def main():\n",
    "    print(\"1- Sum\")\n",
    "    print(\"2- Product\")\n",
    "    c1=int(input(\"Enter the option: \"))\n",
    "    n1=int(input(\"Now enter the number: \"))\n",
    "    \n",
    "    if c1==1:\n",
    "        add(n1)\n",
    "    elif c1==2:\n",
    "        mul(n1)\n",
    "    else:\n",
    "        print(\"invalid selection\")\n",
    "        \n",
    "main()"
   ]
  },
  {
   "cell_type": "markdown",
   "metadata": {},
   "source": [
    "### Q12"
   ]
  },
  {
   "cell_type": "code",
   "execution_count": 12,
   "metadata": {},
   "outputs": [
    {
     "name": "stdout",
     "output_type": "stream",
     "text": [
      "Sum of all multiples of 3 or 5 below 1000 = 233168\n"
     ]
    }
   ],
   "source": [
    "sum=0\n",
    "for i in range(1,1000):\n",
    "    if i%3==0 or i%5==0:\n",
    "        sum=sum+i\n",
    "        \n",
    "print(\"Sum of all multiples of 3 or 5 below 1000 =\",sum)"
   ]
  },
  {
   "cell_type": "markdown",
   "metadata": {},
   "source": [
    "### Q13"
   ]
  },
  {
   "cell_type": "code",
   "execution_count": 20,
   "metadata": {},
   "outputs": [
    {
     "name": "stdout",
     "output_type": "stream",
     "text": [
      "2002,   2009,   2016,   2023,   2037,   2044,   2051,   2058,   2072,   2079,   2086,   2093,   2107,   2114,   2121,   2128,   2142,   2149,   2156,   2163,   2177,   2184,   2191,   2198,   2212,   2219,   2226,   2233,   2247,   2254,   2261,   2268,   2282,   2289,   2296,   2303,   2317,   2324,   2331,   2338,   2352,   2359,   2366,   2373,   2387,   2394,   2401,   2408,   2422,   2429,   2436,   2443,   2457,   2464,   2471,   2478,   2492,   2499,   2506,   2513,   2527,   2534,   2541,   2548,   2562,   2569,   2576,   2583,   2597,   2604,   2611,   2618,   2632,   2639,   2646,   2653,   2667,   2674,   2681,   2688,   2702,   2709,   2716,   2723,   2737,   2744,   2751,   2758,   2772,   2779,   2786,   2793,   2807,   2814,   2821,   2828,   2842,   2849,   2856,   2863,   2877,   2884,   2891,   2898,   2912,   2919,   2926,   2933,   2947,   2954,   2961,   2968,   2982,   2989,   2996,   3003,   3017,   3024,   3031,   3038,   3052,   3059,   3066,   3073,   3087,   3094,   3101,   3108,   3122,   3129,   3136,   3143,   3157,   3164,   3171,   3178,   3192,   3199,   "
     ]
    }
   ],
   "source": [
    "for i in range(2000,3201):\n",
    "    if i%7==0 and (i%5)!=0:\n",
    "        print(i,end=\",   \")"
   ]
  },
  {
   "cell_type": "markdown",
   "metadata": {},
   "source": [
    "### Q14"
   ]
  },
  {
   "cell_type": "code",
   "execution_count": 24,
   "metadata": {},
   "outputs": [
    {
     "name": "stdout",
     "output_type": "stream",
     "text": [
      "Sum of squares:  338350\n",
      "Square of sum:  25502500\n",
      "Differnce between sum of the squares and square of the sum:  25164150\n"
     ]
    }
   ],
   "source": [
    "sum=0\n",
    "sumsq=0\n",
    "for i in range(1,101):\n",
    "    sum=sum+(i**2)\n",
    "    sumsq=sumsq+i\n",
    "print(\"Sum of squares: \",sum)\n",
    "print(\"Square of sum: \",sumsq**2)\n",
    "\n",
    "difference=(sumsq**2)-sum\n",
    "\n",
    "print(\"Differnce between sum of the squares and square of the sum: \",difference)"
   ]
  },
  {
   "cell_type": "markdown",
   "metadata": {},
   "source": [
    "### Q15"
   ]
  },
  {
   "cell_type": "code",
   "execution_count": 27,
   "metadata": {},
   "outputs": [
    {
     "name": "stdout",
     "output_type": "stream",
     "text": [
      "Input the number: 1\n",
      "Input the number: 2\n",
      "Input the number: 3\n",
      "Input the number: 4\n",
      "Input the number: 5\n",
      "Input the number: stop\n",
      "Error\n",
      "Sum = 15\n",
      "Count = 5\n",
      "Average 3.0\n"
     ]
    }
   ],
   "source": [
    "sum3=0\n",
    "cnt=0\n",
    "while d!='stop':\n",
    "    try:\n",
    "        d=int(input(\"Input the number: \"))\n",
    "        cnt+=1\n",
    "        sum3=sum3+d\n",
    "    except:\n",
    "        print(\"Error\")\n",
    "        print(\"Sum =\",sum3)\n",
    "        print(\"Count =\",cnt)\n",
    "        print(\"Average\",sum3/cnt)\n",
    "        break"
   ]
  },
  {
   "cell_type": "markdown",
   "metadata": {},
   "source": [
    "### Q16"
   ]
  },
  {
   "cell_type": "code",
   "execution_count": 40,
   "metadata": {},
   "outputs": [
    {
     "name": "stdout",
     "output_type": "stream",
     "text": [
      "Enter no.12\n",
      "2\n",
      "3\n",
      "4\n",
      "5\n",
      "7\n",
      "11\n"
     ]
    }
   ],
   "source": [
    "d1=int(input(\"Enter no.\"))\n",
    "for i in range(2,d1+1):\n",
    "    for j in range(2,i//2):\n",
    "        if(i%j==0):\n",
    "            \n",
    "            flag=1\n",
    "            break\n",
    "    else:\n",
    "        print(i)      "
   ]
  },
  {
   "cell_type": "markdown",
   "metadata": {},
   "source": [
    "### Q17"
   ]
  },
  {
   "cell_type": "code",
   "execution_count": 9,
   "metadata": {},
   "outputs": [
    {
     "name": "stdout",
     "output_type": "stream",
     "text": [
      "5\n"
     ]
    },
    {
     "data": {
      "text/plain": [
       "120"
      ]
     },
     "execution_count": 9,
     "metadata": {},
     "output_type": "execute_result"
    }
   ],
   "source": [
    "def f(z):\n",
    "    if z==0:\n",
    "        return 1\n",
    "    return z * f(z-1)\n",
    "\n",
    "f(int(input()))"
   ]
  },
  {
   "cell_type": "markdown",
   "metadata": {},
   "source": [
    "### Q18"
   ]
  },
  {
   "cell_type": "code",
   "execution_count": 37,
   "metadata": {},
   "outputs": [
    {
     "name": "stdout",
     "output_type": "stream",
     "text": [
      "Enter the limit: 34\n",
      "0\n",
      "1\n",
      "1\n",
      "2\n",
      "3\n",
      "5\n",
      "8\n",
      "13\n",
      "21\n"
     ]
    }
   ],
   "source": [
    "p=0\n",
    "n=1\n",
    "num=int(input(\"Enter the limit: \"))\n",
    "while p<num:\n",
    "    print(p)\n",
    "    p,n=n,p+n\n"
   ]
  },
  {
   "cell_type": "markdown",
   "metadata": {},
   "source": [
    "### Q20"
   ]
  },
  {
   "cell_type": "code",
   "execution_count": 47,
   "metadata": {},
   "outputs": [
    {
     "name": "stdout",
     "output_type": "stream",
     "text": [
      "20\n",
      "Factors are [1, 2, 4, 5, 10, 20]\n"
     ]
    }
   ],
   "source": [
    "arr=[]\n",
    "j=int(input())\n",
    "for i in range(1,j+1):\n",
    "    if j%i==0:\n",
    "        arr.append(i)\n",
    "print(\"Factors are\",arr)"
   ]
  },
  {
   "cell_type": "markdown",
   "metadata": {},
   "source": [
    "### Q19"
   ]
  },
  {
   "cell_type": "code",
   "execution_count": 16,
   "metadata": {},
   "outputs": [
    {
     "name": "stdout",
     "output_type": "stream",
     "text": [
      "Enter the first number:24\n",
      "Enter the second number:18\n",
      "LCM :  72\n"
     ]
    }
   ],
   "source": [
    "a=int(input(\"Enter the first number:\"))\n",
    "b=int(input(\"Enter the second number:\"))\n",
    "if(a>b):\n",
    "    max=a\n",
    "else:\n",
    "    max=b\n",
    "while(1):\n",
    "    if(max%a==0 and max%b==0):\n",
    "        print(\"LCM : \",max)\n",
    "        break\n",
    "    max+=1"
   ]
  },
  {
   "cell_type": "markdown",
   "metadata": {},
   "source": [
    "### Q21(1)"
   ]
  },
  {
   "cell_type": "code",
   "execution_count": 68,
   "metadata": {},
   "outputs": [
    {
     "name": "stdout",
     "output_type": "stream",
     "text": [
      "*     \n",
      "* *    \n",
      "* * *   \n",
      "* * * *  \n",
      "* * * * * \n"
     ]
    }
   ],
   "source": [
    "n=5\n",
    "for i in range(n):\n",
    "    print(\"* \" *(i+1) + \" \" *(n-i-1) )"
   ]
  },
  {
   "cell_type": "markdown",
   "metadata": {},
   "source": [
    "### Q21(2)"
   ]
  },
  {
   "cell_type": "code",
   "execution_count": 69,
   "metadata": {},
   "outputs": [
    {
     "name": "stdout",
     "output_type": "stream",
     "text": [
      "* * * * * * * \n",
      "* * * * * *  \n",
      "* * * * *   \n",
      "* * * *    \n",
      "* * *     \n",
      "* *      \n",
      "*       \n"
     ]
    }
   ],
   "source": [
    "n=7\n",
    "for i in range(n):\n",
    "    print(\"* \"*((n+1)-i-1)+\" \" *((i+1)-1))"
   ]
  },
  {
   "cell_type": "markdown",
   "metadata": {},
   "source": [
    "### Q21(3)"
   ]
  },
  {
   "cell_type": "code",
   "execution_count": 71,
   "metadata": {},
   "outputs": [
    {
     "name": "stdout",
     "output_type": "stream",
     "text": [
      "1 \n",
      "2 2 \n",
      "3 3 3 \n",
      "4 4 4 4 \n",
      "5 5 5 5 5 \n"
     ]
    }
   ],
   "source": [
    "n=5\n",
    "for i in range(n):\n",
    "    print(\"{} \".format(i+1)*(i+1))"
   ]
  },
  {
   "cell_type": "markdown",
   "metadata": {},
   "source": [
    "### Q21(4)"
   ]
  },
  {
   "cell_type": "code",
   "execution_count": 72,
   "metadata": {},
   "outputs": [
    {
     "name": "stdout",
     "output_type": "stream",
     "text": [
      "   * \n",
      "  * * \n",
      " * * * \n",
      "* * * * \n"
     ]
    }
   ],
   "source": [
    "n=4\n",
    "for i in range(n):\n",
    "    print(\" \" *(n-i-1) + \"* \" *(i+1) )"
   ]
  },
  {
   "cell_type": "markdown",
   "metadata": {},
   "source": [
    "### Q21(5)"
   ]
  },
  {
   "cell_type": "code",
   "execution_count": 124,
   "metadata": {},
   "outputs": [
    {
     "name": "stdout",
     "output_type": "stream",
     "text": [
      "1 \n",
      "2 3 \n",
      "4 5 6 \n",
      "7 8 9 10 \n"
     ]
    }
   ],
   "source": [
    "n=5\n",
    "counter=1\n",
    "for i in range(1,n):\n",
    "    for j in range(1,i+1):\n",
    "        print(counter,end=\" \")\n",
    "        counter+=1\n",
    "    print()"
   ]
  },
  {
   "cell_type": "markdown",
   "metadata": {},
   "source": [
    "### Q21(6)"
   ]
  },
  {
   "cell_type": "code",
   "execution_count": 134,
   "metadata": {},
   "outputs": [
    {
     "name": "stdout",
     "output_type": "stream",
     "text": [
      "A \n",
      "B C \n",
      "D E F \n",
      "G H I J \n"
     ]
    }
   ],
   "source": [
    "n=5\n",
    "counter=ord('A')\n",
    "for i in range(1,n):\n",
    "    for j in range(1,i+1):\n",
    "        print(chr(counter),end=\" \")\n",
    "        counter+=1\n",
    "    print()"
   ]
  },
  {
   "cell_type": "markdown",
   "metadata": {},
   "source": []
  },
  {
   "cell_type": "code",
   "execution_count": 138,
   "metadata": {},
   "outputs": [],
   "source": []
  },
  {
   "cell_type": "code",
   "execution_count": null,
   "metadata": {},
   "outputs": [],
   "source": []
  }
 ],
 "metadata": {
  "kernelspec": {
   "display_name": "Python 3",
   "language": "python",
   "name": "python3"
  },
  "language_info": {
   "codemirror_mode": {
    "name": "ipython",
    "version": 3
   },
   "file_extension": ".py",
   "mimetype": "text/x-python",
   "name": "python",
   "nbconvert_exporter": "python",
   "pygments_lexer": "ipython3",
   "version": "3.7.3"
  }
 },
 "nbformat": 4,
 "nbformat_minor": 2
}
